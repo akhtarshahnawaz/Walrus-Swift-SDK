{
 "cells": [
  {
   "cell_type": "code",
   "execution_count": 1,
   "id": "921a3b6f",
   "metadata": {},
   "outputs": [],
   "source": [
    "import requests"
   ]
  },
  {
   "cell_type": "code",
   "execution_count": 9,
   "id": "7260e904",
   "metadata": {
    "scrolled": false
   },
   "outputs": [
    {
     "name": "stderr",
     "output_type": "stream",
     "text": [
      "/Users/shahnawazakhtar/opt/anaconda3/lib/python3.8/site-packages/urllib3/connectionpool.py:1013: InsecureRequestWarning: Unverified HTTPS request is being made to host 'walrus-testnet-publisher.starduststaking.com'. Adding certificate verification is strongly advised. See: https://urllib3.readthedocs.io/en/1.26.x/advanced-usage.html#ssl-warnings\n",
      "  warnings.warn(\n"
     ]
    },
    {
     "name": "stdout",
     "output_type": "stream",
     "text": [
      "Status Code: 200\n",
      "Response Text: {\"newlyCreated\":{\"blobObject\":{\"id\":\"0x23849206f2a3dfe146b2547269d2d7d5f55860fcd97b889afd499c2f81c8f5ee\",\"registeredEpoch\":93,\"blobId\":\"__7swun-DDZycpiChavVe3p6gBuKO-C5R9S8EexlzR0\",\"size\":21,\"encodingType\":\"RS2\",\"certifiedEpoch\":null,\"storage\":{\"id\":\"0x8e981fff1a40996aa87c8442079f1e349a86435079a79b4bf5fac7d6782ff539\",\"startEpoch\":93,\"endEpoch\":94,\"storageSize\":66034000},\"deletable\":false},\"resourceOperation\":{\"registerFromScratch\":{\"encodedLength\":66034000,\"epochsAhead\":1}},\"cost\":11025000}}\n"
     ]
    }
   ],
   "source": [
    "publisher_url = \"https://walrus-testnet-publisher.starduststaking.com/v1/blobs\"\n",
    "data = \"This is a test string\"\n",
    "\n",
    "# Make the PUT request\n",
    "response = requests.put(publisher_url, data=data, verify=False)\n",
    "\n",
    "# Print status code and response text\n",
    "print(f\"Status Code: {response.status_code}\")\n",
    "print(\"Response Text:\", response.text)"
   ]
  },
  {
   "cell_type": "code",
   "execution_count": 10,
   "id": "38552742",
   "metadata": {},
   "outputs": [
    {
     "name": "stderr",
     "output_type": "stream",
     "text": [
      "/Users/shahnawazakhtar/opt/anaconda3/lib/python3.8/site-packages/urllib3/connectionpool.py:1013: InsecureRequestWarning: Unverified HTTPS request is being made to host 'agg.test.walrus.eosusa.io'. Adding certificate verification is strongly advised. See: https://urllib3.readthedocs.io/en/1.26.x/advanced-usage.html#ssl-warnings\n",
      "  warnings.warn(\n"
     ]
    },
    {
     "name": "stdout",
     "output_type": "stream",
     "text": [
      "Status Code: 200\n",
      "Blob Content:\n",
      "This is a test string\n"
     ]
    }
   ],
   "source": [
    "aggregator_url = \"https://agg.test.walrus.eosusa.io\"\n",
    "# aggregator_url = \"https://walrus-testnet-aggregator.starduststaking.com\"\n",
    "blob_id = \"__7swun-DDZycpiChavVe3p6gBuKO-C5R9S8EexlzR0\"\n",
    "\n",
    "\n",
    "url = f\"{aggregator_url}/v1/blobs/{blob_id}\"\n",
    "\n",
    "# Perform GET request, bypassing SSL verification if needed\n",
    "response = requests.get(url, verify=False)\n",
    "\n",
    "print(f\"Status Code: {response.status_code}\")\n",
    "print(\"Blob Content:\")\n",
    "print(response.text)  # or response.content if it's binary\n"
   ]
  },
  {
   "cell_type": "code",
   "execution_count": null,
   "id": "789347ac",
   "metadata": {},
   "outputs": [],
   "source": []
  }
 ],
 "metadata": {
  "kernelspec": {
   "display_name": "Python 3 (ipykernel)",
   "language": "python",
   "name": "python3"
  },
  "language_info": {
   "codemirror_mode": {
    "name": "ipython",
    "version": 3
   },
   "file_extension": ".py",
   "mimetype": "text/x-python",
   "name": "python",
   "nbconvert_exporter": "python",
   "pygments_lexer": "ipython3",
   "version": "3.8.3"
  }
 },
 "nbformat": 4,
 "nbformat_minor": 5
}
